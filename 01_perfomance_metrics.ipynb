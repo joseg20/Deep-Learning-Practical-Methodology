{
 "cells": [
  {
   "cell_type": "markdown",
   "metadata": {},
   "source": [
    "# 01. Perfomance Metrics\n",
    "\n",
    "by Jose Guillen, Guillermo Figueroa and Samuel Ortiz"
   ]
  },
  {
   "cell_type": "markdown",
   "metadata": {},
   "source": [
    "## Dependencias"
   ]
  },
  {
   "cell_type": "code",
   "execution_count": 355,
   "metadata": {},
   "outputs": [],
   "source": [
    "from tabulate import tabulate\n",
    "import seaborn as sns\n",
    "import pandas as pd\n",
    "from sklearn.model_selection import train_test_split\n",
    "from sklearn.linear_model import LogisticRegression\n",
    "from sklearn.model_selection import cross_val_score\n",
    "from sklearn import metrics\n",
    "import matplotlib.pyplot as plt"
   ]
  },
  {
   "cell_type": "markdown",
   "metadata": {},
   "source": [
    "# Evaluación de un modelo de clasificación"
   ]
  },
  {
   "cell_type": "markdown",
   "metadata": {},
   "source": [
    "Contenido del notebook:\n",
    "1. Introducción\n",
    "2. Matriz de Confusión\n",
    "3. Métricas calculadas a partir de una matriz de confusión ( Classification Accuracy & Error, Sensitivity/Recall, Specificity, False Positive Rate, Precision, F1 Score)\n",
    "4. Curvas ROC y Área Bajo la Curva (AUC)"
   ]
  },
  {
   "cell_type": "markdown",
   "metadata": {},
   "source": [
    "## Introducción"
   ]
  },
  {
   "cell_type": "markdown",
   "metadata": {},
   "source": [
    "### Contexto del dataset: \"Pima Indians Diabetes Database\""
   ]
  },
  {
   "cell_type": "markdown",
   "metadata": {},
   "source": [
    "Este conjunto de datos proviene originalmente del Instituto Nacional de Diabetes y Enfermedades Digestivas y del Riñón. El objetivo del conjunto de datos es predecir de manera diagnóstica si un paciente tiene o no diabetes, basándose en ciertas medidas diagnósticas incluidas en el conjunto de datos. Se aplicaron varias restricciones en la selección de estas instancias a partir de una base de datos más grande. En particular, todas las pacientes aquí son mujeres de al menos 21 años de edad y de herencia india Pima."
   ]
  },
  {
   "cell_type": "markdown",
   "metadata": {},
   "source": [
    "### Cargamos el dataset y lo visualizamos"
   ]
  },
  {
   "cell_type": "code",
   "execution_count": 356,
   "metadata": {},
   "outputs": [
    {
     "data": {
      "text/html": [
       "<div>\n",
       "<style scoped>\n",
       "    .dataframe tbody tr th:only-of-type {\n",
       "        vertical-align: middle;\n",
       "    }\n",
       "\n",
       "    .dataframe tbody tr th {\n",
       "        vertical-align: top;\n",
       "    }\n",
       "\n",
       "    .dataframe thead th {\n",
       "        text-align: right;\n",
       "    }\n",
       "</style>\n",
       "<table border=\"1\" class=\"dataframe\">\n",
       "  <thead>\n",
       "    <tr style=\"text-align: right;\">\n",
       "      <th></th>\n",
       "      <th>pregnant</th>\n",
       "      <th>glucose</th>\n",
       "      <th>bp</th>\n",
       "      <th>skin</th>\n",
       "      <th>insulin</th>\n",
       "      <th>bmi</th>\n",
       "      <th>pedigree</th>\n",
       "      <th>age</th>\n",
       "      <th>label</th>\n",
       "    </tr>\n",
       "  </thead>\n",
       "  <tbody>\n",
       "    <tr>\n",
       "      <th>1</th>\n",
       "      <td>6</td>\n",
       "      <td>148</td>\n",
       "      <td>72</td>\n",
       "      <td>35</td>\n",
       "      <td>0</td>\n",
       "      <td>33.6</td>\n",
       "      <td>0.627</td>\n",
       "      <td>50</td>\n",
       "      <td>1</td>\n",
       "    </tr>\n",
       "    <tr>\n",
       "      <th>2</th>\n",
       "      <td>1</td>\n",
       "      <td>85</td>\n",
       "      <td>66</td>\n",
       "      <td>29</td>\n",
       "      <td>0</td>\n",
       "      <td>26.6</td>\n",
       "      <td>0.351</td>\n",
       "      <td>31</td>\n",
       "      <td>0</td>\n",
       "    </tr>\n",
       "    <tr>\n",
       "      <th>3</th>\n",
       "      <td>8</td>\n",
       "      <td>183</td>\n",
       "      <td>64</td>\n",
       "      <td>0</td>\n",
       "      <td>0</td>\n",
       "      <td>23.3</td>\n",
       "      <td>0.672</td>\n",
       "      <td>32</td>\n",
       "      <td>1</td>\n",
       "    </tr>\n",
       "    <tr>\n",
       "      <th>4</th>\n",
       "      <td>1</td>\n",
       "      <td>89</td>\n",
       "      <td>66</td>\n",
       "      <td>23</td>\n",
       "      <td>94</td>\n",
       "      <td>28.1</td>\n",
       "      <td>0.167</td>\n",
       "      <td>21</td>\n",
       "      <td>0</td>\n",
       "    </tr>\n",
       "    <tr>\n",
       "      <th>5</th>\n",
       "      <td>0</td>\n",
       "      <td>137</td>\n",
       "      <td>40</td>\n",
       "      <td>35</td>\n",
       "      <td>168</td>\n",
       "      <td>43.1</td>\n",
       "      <td>2.288</td>\n",
       "      <td>33</td>\n",
       "      <td>1</td>\n",
       "    </tr>\n",
       "  </tbody>\n",
       "</table>\n",
       "</div>"
      ],
      "text/plain": [
       "  pregnant glucose  bp skin insulin   bmi pedigree age label\n",
       "1        6     148  72   35       0  33.6    0.627  50     1\n",
       "2        1      85  66   29       0  26.6    0.351  31     0\n",
       "3        8     183  64    0       0  23.3    0.672  32     1\n",
       "4        1      89  66   23      94  28.1    0.167  21     0\n",
       "5        0     137  40   35     168  43.1    2.288  33     1"
      ]
     },
     "execution_count": 356,
     "metadata": {},
     "output_type": "execute_result"
    }
   ],
   "source": [
    "# Leyendo el conjunto de datos en un DataFrame de Pandas\n",
    "col_names = ['pregnant', 'glucose', 'bp', 'skin', 'insulin', 'bmi', 'pedigree', 'age', 'label']\n",
    "pima = pd.read_csv(\"data/diabetes.csv\", header=None, names=col_names)\n",
    "pima.drop(0, inplace=True)\n",
    "pima.head()"
   ]
  },
  {
   "cell_type": "markdown",
   "metadata": {},
   "source": [
    "#### Información de columnas\n",
    "\n",
    "* pregnant: El número de veces que una mujer ha estado embarazada.\n",
    "* glucose: La concentración de glucosa en sangre medida en mg/dL.\n",
    "* bp (blood pressure): La presión arterial sistólica en mm Hg.\n",
    "* skin: El grosor del pliegue cutáneo del tríceps en mm.\n",
    "* insulin: La concentración de insulina en sangre en µU/mL.\n",
    "* bmi (body mass index): El índice de masa corporal, que es una medida de la adiposidad calculada a partir del peso y la altura.\n",
    "* pedigree: El valor de la función de pedigrí de diabetes, que proporciona información sobre la predisposición genética a la diabetes.\n",
    "* age: La edad de la paciente en años.\n",
    "* label: La etiqueta que indica si la paciente tiene diabetes (1) o no (0)."
   ]
  },
  {
   "cell_type": "markdown",
   "metadata": {},
   "source": [
    "### Predicción del estado de diabetes de un paciente según sus medidas de salud"
   ]
  },
  {
   "cell_type": "markdown",
   "metadata": {},
   "source": [
    "#### Extraemos características y definimos un modelo de regresión logística"
   ]
  },
  {
   "cell_type": "code",
   "execution_count": 357,
   "metadata": {},
   "outputs": [
    {
     "data": {
      "text/html": [
       "<style>#sk-container-id-20 {color: black;}#sk-container-id-20 pre{padding: 0;}#sk-container-id-20 div.sk-toggleable {background-color: white;}#sk-container-id-20 label.sk-toggleable__label {cursor: pointer;display: block;width: 100%;margin-bottom: 0;padding: 0.3em;box-sizing: border-box;text-align: center;}#sk-container-id-20 label.sk-toggleable__label-arrow:before {content: \"▸\";float: left;margin-right: 0.25em;color: #696969;}#sk-container-id-20 label.sk-toggleable__label-arrow:hover:before {color: black;}#sk-container-id-20 div.sk-estimator:hover label.sk-toggleable__label-arrow:before {color: black;}#sk-container-id-20 div.sk-toggleable__content {max-height: 0;max-width: 0;overflow: hidden;text-align: left;background-color: #f0f8ff;}#sk-container-id-20 div.sk-toggleable__content pre {margin: 0.2em;color: black;border-radius: 0.25em;background-color: #f0f8ff;}#sk-container-id-20 input.sk-toggleable__control:checked~div.sk-toggleable__content {max-height: 200px;max-width: 100%;overflow: auto;}#sk-container-id-20 input.sk-toggleable__control:checked~label.sk-toggleable__label-arrow:before {content: \"▾\";}#sk-container-id-20 div.sk-estimator input.sk-toggleable__control:checked~label.sk-toggleable__label {background-color: #d4ebff;}#sk-container-id-20 div.sk-label input.sk-toggleable__control:checked~label.sk-toggleable__label {background-color: #d4ebff;}#sk-container-id-20 input.sk-hidden--visually {border: 0;clip: rect(1px 1px 1px 1px);clip: rect(1px, 1px, 1px, 1px);height: 1px;margin: -1px;overflow: hidden;padding: 0;position: absolute;width: 1px;}#sk-container-id-20 div.sk-estimator {font-family: monospace;background-color: #f0f8ff;border: 1px dotted black;border-radius: 0.25em;box-sizing: border-box;margin-bottom: 0.5em;}#sk-container-id-20 div.sk-estimator:hover {background-color: #d4ebff;}#sk-container-id-20 div.sk-parallel-item::after {content: \"\";width: 100%;border-bottom: 1px solid gray;flex-grow: 1;}#sk-container-id-20 div.sk-label:hover label.sk-toggleable__label {background-color: #d4ebff;}#sk-container-id-20 div.sk-serial::before {content: \"\";position: absolute;border-left: 1px solid gray;box-sizing: border-box;top: 0;bottom: 0;left: 50%;z-index: 0;}#sk-container-id-20 div.sk-serial {display: flex;flex-direction: column;align-items: center;background-color: white;padding-right: 0.2em;padding-left: 0.2em;position: relative;}#sk-container-id-20 div.sk-item {position: relative;z-index: 1;}#sk-container-id-20 div.sk-parallel {display: flex;align-items: stretch;justify-content: center;background-color: white;position: relative;}#sk-container-id-20 div.sk-item::before, #sk-container-id-20 div.sk-parallel-item::before {content: \"\";position: absolute;border-left: 1px solid gray;box-sizing: border-box;top: 0;bottom: 0;left: 50%;z-index: -1;}#sk-container-id-20 div.sk-parallel-item {display: flex;flex-direction: column;z-index: 1;position: relative;background-color: white;}#sk-container-id-20 div.sk-parallel-item:first-child::after {align-self: flex-end;width: 50%;}#sk-container-id-20 div.sk-parallel-item:last-child::after {align-self: flex-start;width: 50%;}#sk-container-id-20 div.sk-parallel-item:only-child::after {width: 0;}#sk-container-id-20 div.sk-dashed-wrapped {border: 1px dashed gray;margin: 0 0.4em 0.5em 0.4em;box-sizing: border-box;padding-bottom: 0.4em;background-color: white;}#sk-container-id-20 div.sk-label label {font-family: monospace;font-weight: bold;display: inline-block;line-height: 1.2em;}#sk-container-id-20 div.sk-label-container {text-align: center;}#sk-container-id-20 div.sk-container {/* jupyter's `normalize.less` sets `[hidden] { display: none; }` but bootstrap.min.css set `[hidden] { display: none !important; }` so we also need the `!important` here to be able to override the default hidden behavior on the sphinx rendered scikit-learn.org. See: https://github.com/scikit-learn/scikit-learn/issues/21755 */display: inline-block !important;position: relative;}#sk-container-id-20 div.sk-text-repr-fallback {display: none;}</style><div id=\"sk-container-id-20\" class=\"sk-top-container\"><div class=\"sk-text-repr-fallback\"><pre>LogisticRegression()</pre><b>In a Jupyter environment, please rerun this cell to show the HTML representation or trust the notebook. <br />On GitHub, the HTML representation is unable to render, please try loading this page with nbviewer.org.</b></div><div class=\"sk-container\" hidden><div class=\"sk-item\"><div class=\"sk-estimator sk-toggleable\"><input class=\"sk-toggleable__control sk-hidden--visually\" id=\"sk-estimator-id-20\" type=\"checkbox\" checked><label for=\"sk-estimator-id-20\" class=\"sk-toggleable__label sk-toggleable__label-arrow\">LogisticRegression</label><div class=\"sk-toggleable__content\"><pre>LogisticRegression()</pre></div></div></div></div></div>"
      ],
      "text/plain": [
       "LogisticRegression()"
      ]
     },
     "execution_count": 357,
     "metadata": {},
     "output_type": "execute_result"
    }
   ],
   "source": [
    "# Se define una lista de características que se utilizarán como entradas para el modelo. \n",
    "feature_cols = ['pregnant', 'insulin', 'bmi', 'age']\n",
    "# Se crea una matriz X que contiene solo las columnas de características seleccionadas del conjunto de datos pima.\n",
    "X = pima[feature_cols]\n",
    "# Se crea una serie y que contiene la columna de etiquetas \"label\" del conjunto de datos pima.\n",
    "y = pima.label\n",
    "#Se divide el conjunto de datos en conjuntos de entrenamiento y prueba.\n",
    "X_train, X_test, y_train, y_test = train_test_split(X, y, random_state=0)\n",
    "\n",
    "# Se crea un modelo de regresión logística (logreg).\n",
    "logreg = LogisticRegression()\n",
    "# Se entrena el modelo de regresión logística utilizando los datos de entrenamiento\n",
    "logreg.fit(X_train, y_train)"
   ]
  },
  {
   "cell_type": "markdown",
   "metadata": {},
   "source": [
    "\n",
    "#### Realizamos predicciones"
   ]
  },
  {
   "cell_type": "code",
   "execution_count": 358,
   "metadata": {},
   "outputs": [],
   "source": [
    "# Realizar predicciones de clases para el conjunto de prueba.\n",
    "y_pred_class = logreg.predict(X_test)"
   ]
  },
  {
   "cell_type": "markdown",
   "metadata": {},
   "source": [
    "##### Comparación entre los valores reales y los valores predichos.\n"
   ]
  },
  {
   "cell_type": "code",
   "execution_count": 359,
   "metadata": {},
   "outputs": [
    {
     "data": {
      "image/png": "[encoded data removed]",
      "text/plain": [
       "<Figure size 1000x600 with 1 Axes>"
      ]
     },
     "metadata": {},
     "output_type": "display_data"
    }
   ],
   "source": [
    "true_values = y_test.values[0:25]\n",
    "predicted_values = y_pred_class[0:25]\n",
    "\n",
    "# Mejorando el gráfico con anotaciones mejoradas\n",
    "plt.figure(figsize=(10, 6))\n",
    "plt.plot(true_values, label='Valores reales', marker='o', linestyle='-', color='blue')\n",
    "plt.plot(predicted_values, label='Valores predichos', marker='x', linestyle='--', color='red')\n",
    "plt.xlabel('Índice de la muestra')\n",
    "plt.ylabel('Valores')\n",
    "plt.title('Comparación entre Valores Reales y Valores Predichos')\n",
    "plt.legend()\n",
    "plt.grid(True)\n",
    "\n",
    "# Mejorando las anotaciones\n",
    "for i, (true, pred) in enumerate(zip(true_values, predicted_values)):\n",
    "    if true != pred:\n",
    "        plt.annotate('Error', (i, pred), textcoords=\"offset points\", xytext=(0,10), ha='center',\n",
    "                     bbox=dict(boxstyle=\"round,pad=0.3\", fc=\"yellow\", ec=\"black\", lw=1), fontsize=8)\n",
    "\n",
    "plt.show()\n"
   ]
  },
  {
   "cell_type": "markdown",
   "metadata": {},
   "source": [
    "### Métrica coverage"
   ]
  },
  {
   "cell_type": "markdown",
   "metadata": {},
   "source": [
    "El término \"coverage\" puede tener diferentes significados en el contexto del aprendizaje automático y la evaluación de modelos, dependiendo de cómo se aplique. Sin embargo, en el contexto más general y común, \"coverage\" se refiere a la proporción de casos que un modelo es capaz de hacer predicciones. "
   ]
  },
  {
   "cell_type": "markdown",
   "metadata": {},
   "source": [
    "En tareas de clasificación, especialmente con modelos que pueden abstenerse de hacer una predicción, \"coverage\" podría referirse a la proporción de instancias para las cuales el modelo realiza una predicción."
   ]
  },
  {
   "cell_type": "markdown",
   "metadata": {},
   "source": [
    "Dado un conjunto de datos de N instancias, y tu modelo hace predicciones para M de esas instancias. Entonces, el \"coverage\" se calcularía como:\n",
    "\n",
    "coverage = M / N"
   ]
  },
  {
   "cell_type": "code",
   "execution_count": 378,
   "metadata": {},
   "outputs": [
    {
     "name": "stdout",
     "output_type": "stream",
     "text": [
      "Coverage: 1.0\n"
     ]
    }
   ],
   "source": [
    "# El número total de instancias en el conjunto de prueba\n",
    "total_test_instances = X_test.shape[0]\n",
    "\n",
    "# El número de predicciones hechas por el modelo\n",
    "# Como la regresión logística hace una predicción para cada instancia, este será igual a total_test_instances\n",
    "predictions_made = len(y_pred_class)\n",
    "\n",
    "# Calculando el coverage\n",
    "coverage = predictions_made / total_test_instances\n",
    "\n",
    "print(\"Coverage:\", coverage)\n"
   ]
  },
  {
   "cell_type": "markdown",
   "metadata": {},
   "source": [
    "## Matriz de confusion"
   ]
  },
  {
   "cell_type": "markdown",
   "metadata": {},
   "source": [
    "La matriz de confusión es una herramienta crucial para evaluar el rendimiento de un modelo de clasificación, especialmente en problemas de clasificación binaria. En tu código, la matriz de confusión generada es una matriz de 2x2, lo que indica que estás trabajando con un problema de clasificación binaria."
   ]
  },
  {
   "cell_type": "markdown",
   "metadata": {},
   "source": [
    "### Clasificación Binaria"
   ]
  },
  {
   "cell_type": "markdown",
   "metadata": {},
   "source": [
    "En un problema de clasificación binaria, solo existen dos posibles etiquetas para la salida, generalmente representadas como:\n",
    "\n",
    "*    Positivo (o '1'): Indica la presencia de una característica o condición específica.\n",
    "*    Negativo (o '0'): Indica la ausencia de esa característica o condición."
   ]
  },
  {
   "cell_type": "markdown",
   "metadata": {},
   "source": [
    "### Componentes de la Matriz de Confusión\n",
    "\n",
    "La matriz de confusión compara las etiquetas reales con las predicciones hechas por el modelo. Se compone de cuatro elementos esenciales:\n",
    "\n",
    "*    Verdaderos Positivos (TP): Casos donde el modelo predijo correctamente la clase positiva.\n",
    "*    Verdaderos Negativos (TN): Casos donde el modelo predijo correctamente la clase negativa.\n",
    "*    Falsos Positivos (FP): Casos donde el modelo predijo incorrectamente la clase positiva.\n",
    "*    Falsos Negativos (FN): Casos donde el modelo predijo incorrectamente la clase negativa."
   ]
  },
  {
   "cell_type": "code",
   "execution_count": 360,
   "metadata": {},
   "outputs": [
    {
     "data": {
      "text/plain": [
       "array([[114,  16],\n",
       "       [ 46,  16]])"
      ]
     },
     "execution_count": 360,
     "metadata": {},
     "output_type": "execute_result"
    }
   ],
   "source": [
    "confusion = metrics.confusion_matrix(y_test, y_pred_class)\n",
    "TP = confusion[1, 1]\n",
    "TN = confusion[0, 0]\n",
    "FP = confusion[0, 1]\n",
    "FN = confusion[1, 0]\n",
    "confusion"
   ]
  },
  {
   "cell_type": "code",
   "execution_count": 361,
   "metadata": {},
   "outputs": [
    {
     "data": {
      "image/png": "[encoded data removed]",
      "text/plain": [
       "<Figure size 800x600 with 2 Axes>"
      ]
     },
     "metadata": {},
     "output_type": "display_data"
    }
   ],
   "source": [
    "# Crear etiquetas para los ejes\n",
    "class_names = ['Negative', 'Positive']\n",
    "\n",
    "# Crear el gráfico de calor de la matriz de confusión\n",
    "plt.figure(figsize=(8, 6))\n",
    "sns.heatmap(confusion, annot=True, fmt='g', cmap='Blues', xticklabels=class_names, yticklabels=class_names)\n",
    "\n",
    "# Añadir títulos y etiquetas\n",
    "plt.ylabel('Actual')\n",
    "plt.xlabel('Predicted')\n",
    "plt.title('Confusion Matrix')\n",
    "\n",
    "# Mostrar el gráfico\n",
    "plt.show()"
   ]
  },
  {
   "cell_type": "markdown",
   "metadata": {},
   "source": [
    "Terminología básica dentro del contexto\n",
    "\n",
    "* True Positives (TP): Predicción correcta de que sí tienen diabetes.\n",
    "* True Negatives (TN): Predicción correcta de que no tienen diabetes.\n",
    "* False Positives (FP): Predicción incorrecta de que sí tienen diabetes (un \"error de Tipo I\").\n",
    "* Falsos Negativos (FN): Predicción incorrecta de que no tienen diabetes (un \"error de Tipo II\").\n",
    "\n",
    "Para cualquier modelo, los errores de tipo 1 y tipo 2 deben ser mínimos y el poder estadístico debe ser alto para respaldar nuestra hipótesis. Analizar estas métricas, como la matriz de confusión, nos da por lo tanto una estimación del rendimiento de nuestro modelo."
   ]
  },
  {
   "cell_type": "markdown",
   "metadata": {},
   "source": [
    "## Métricas calculadas a partir de una matriz de confusión"
   ]
  },
  {
   "cell_type": "markdown",
   "metadata": {},
   "source": [
    "### Accuracy"
   ]
  },
  {
   "cell_type": "markdown",
   "metadata": {},
   "source": [
    "El accuracy es una métrica de evaluación que mide la precisión de un modelo de clasificación en predecir correctamente quiénes tienen y quiénes no tienen una enfermedad, como la diabetes, en función de ciertas características. Un accuracy del 80% significa que el modelo acierta en aproximadamente el 80% de las predicciones, pero no considera posibles desbalances en las clases o los costos asociados con errores específicos, por lo que en algunos casos pueden ser necesarias métricas adicionales para evaluar mejor el rendimiento del modelo.\n",
    "\n",
    "Accuracy = (Número de predicciones correctas) / (Número total de predicciones)\n"
   ]
  },
  {
   "cell_type": "code",
   "execution_count": 362,
   "metadata": {},
   "outputs": [
    {
     "name": "stdout",
     "output_type": "stream",
     "text": [
      "╒═════════════════════════╤══════════╕\n",
      "│ Metric                  │    Value │\n",
      "╞═════════════════════════╪══════════╡\n",
      "│ Classification Accuracy │ 0.677083 │\n",
      "╘═════════════════════════╧══════════╛\n"
     ]
    }
   ],
   "source": [
    "# Cálculo de la precisión de clasificación\n",
    "accuracy = (TP + TN) / float(TP + TN + FP + FN)\n",
    "data = [[\"Classification Accuracy\", accuracy]]\n",
    "table = tabulate(data, headers=['Metric', 'Value'], tablefmt='fancy_grid')\n",
    "\n",
    "print(table)"
   ]
  },
  {
   "cell_type": "markdown",
   "metadata": {},
   "source": [
    "### Misclassification Rate\n",
    "\n"
   ]
  },
  {
   "cell_type": "markdown",
   "metadata": {},
   "source": [
    "La tasa de clasificación errónea es una métrica de evaluación que mide la proporción de predicciones incorrectas hechas por un modelo de clasificación. Es el complemento de la precisión (accuracy) y proporciona una idea de la frecuencia con la que el modelo se equivoca. Esta métrica es particularmente importante en contextos donde los errores de predicción pueden tener consecuencias significativas, como en el diagnóstico de enfermedades.\n",
    "\n",
    "Missclassification Rate = (Número de predicciones incorrectas) / (Número total de predicciones) \n",
    "\n",
    "Missclassification Rate = 1 - Accuracy"
   ]
  },
  {
   "cell_type": "code",
   "execution_count": 374,
   "metadata": {},
   "outputs": [
    {
     "name": "stdout",
     "output_type": "stream",
     "text": [
      "╒══════════════════════╤══════════╕\n",
      "│ Metric               │    Value │\n",
      "╞══════════════════════╪══════════╡\n",
      "│ Classification Error │ 0.322917 │\n",
      "╘══════════════════════╧══════════╛\n"
     ]
    }
   ],
   "source": [
    "missclassification_rate = (FP + FN) / float(TP + TN + FP + FN)\n",
    "data = [[\"Classification Error\", missclassification_rate]]\n",
    "table = tabulate(data, headers=['Metric', 'Value'], tablefmt='fancy_grid')\n",
    "\n",
    "print(table)"
   ]
  },
  {
   "cell_type": "markdown",
   "metadata": {},
   "source": [
    "### Recall/Sensibilidad\n"
   ]
  },
  {
   "cell_type": "markdown",
   "metadata": {},
   "source": [
    "El Recall, también conocido como sensibilidad o tasa de verdaderos positivos, es una métrica crucial en la evaluación de modelos de clasificación. Mide la proporción de casos positivos reales que fueron correctamente identificados por el modelo. Es especialmente importante en situaciones donde no detectar los verdaderos positivos (como enfermedades en un contexto médico) es crítico.\n",
    "\n",
    "Recall = (Número de Verdaderos Positivos) / (Número de Verdaderos Positivos + Número de Falsos Negativos)"
   ]
  },
  {
   "cell_type": "code",
   "execution_count": 375,
   "metadata": {},
   "outputs": [
    {
     "name": "stdout",
     "output_type": "stream",
     "text": [
      "╒══════════╤══════════╕\n",
      "│ Metric   │    Value │\n",
      "╞══════════╪══════════╡\n",
      "│ Recall   │ 0.258065 │\n",
      "╘══════════╧══════════╛\n"
     ]
    }
   ],
   "source": [
    "recall = TP / float(TP + FN)\n",
    "data = [[\"Recall\", recall]]\n",
    "table = tabulate(data, headers=['Metric', 'Value'], tablefmt='fancy_grid')\n",
    "\n",
    "print(table)"
   ]
  },
  {
   "cell_type": "markdown",
   "metadata": {},
   "source": [
    "### Especificidad"
   ]
  },
  {
   "cell_type": "markdown",
   "metadata": {},
   "source": [
    "La especificidad es una métrica en la evaluación de modelos de clasificación que mide la habilidad del modelo para identificar correctamente los verdaderos negativos. En otras palabras, indica qué tan bien el modelo puede reconocer las situaciones en las que la condición buscada no está presente. Es especialmente útil en contextos donde es crucial no clasificar erróneamente los casos negativos como positivos.\n",
    "\n",
    "Especificidad = (Número de Verdaderos Negativos) / (Número de Verdaderos Negativos + Número de Falsos Positivos)"
   ]
  },
  {
   "cell_type": "code",
   "execution_count": 376,
   "metadata": {},
   "outputs": [
    {
     "name": "stdout",
     "output_type": "stream",
     "text": [
      "╒═════════════╤══════════╕\n",
      "│ Metric      │    Value │\n",
      "╞═════════════╪══════════╡\n",
      "│ Specificity │ 0.876923 │\n",
      "╘═════════════╧══════════╛\n"
     ]
    }
   ],
   "source": [
    "specificity = TN / float(TN + FP)\n",
    "data = [[\"Specificity\", specificity]]\n",
    "table = tabulate(data, headers=['Metric', 'Value'], tablefmt='fancy_grid')\n",
    "\n",
    "print(table)"
   ]
  },
  {
   "cell_type": "markdown",
   "metadata": {},
   "source": [
    "### Precision"
   ]
  },
  {
   "cell_type": "markdown",
   "metadata": {},
   "source": [
    "Mide la proporción de predicciones positivas que fueron realmente correctas. La precisión es especialmente relevante en situaciones donde los falsos positivos (predicciones incorrectas de la clase positiva) son de particular preocupación.\n",
    "\n",
    "Precisión = (Número de Verdaderos Positivos) / (Número de Verdaderos Positivos + Número de Falsos Positivos)"
   ]
  },
  {
   "cell_type": "code",
   "execution_count": 366,
   "metadata": {},
   "outputs": [
    {
     "name": "stdout",
     "output_type": "stream",
     "text": [
      "Precision 0.5\n"
     ]
    }
   ],
   "source": [
    "precision = TP / float(TP + FP)\n",
    "data = [[\"Precision\", precision]]\n",
    "table = tabulate(data, headers=['Metric', 'Value'], tablefmt='fancy_grid')\n",
    "\n",
    "print(table)"
   ]
  },
  {
   "cell_type": "markdown",
   "metadata": {},
   "source": [
    "### F1 Score"
   ]
  },
  {
   "cell_type": "markdown",
   "metadata": {},
   "source": [
    "El F1 Score es una métrica que combina la precisión y el recall en un solo número. Es especialmente útil cuando necesitas equilibrar entre precisión y recall, y es ideal en situaciones donde una alta precisión o un alto recall por sí solos no son suficientes para determinar el rendimiento del modelo.\n",
    "\n",
    "F1 Score = 2 * (Precisión * Recall) / (Precisión + Recall)"
   ]
  },
  {
   "cell_type": "markdown",
   "metadata": {},
   "source": [
    "Importancia y Uso\n",
    "\n",
    "* Equilibrio entre Precisión y Recall: El F1 Score es útil cuando hay una necesidad de equilibrar la precisión con el recall, como en casos donde tanto los falsos positivos como los falsos negativos son costosos.\n",
    "* Situaciones con Desbalance de Clases: En datasets con un desbalance significativo de clases, el F1 Score ayuda a evaluar el rendimiento del modelo de manera más efectiva que solo usando precisión o recall.\n",
    "* Aplicaciones Críticas: Se utiliza en situaciones donde es importante no solo identificar correctamente los casos positivos (alto recall) sino también mantener bajo el número de falsos positivos (alta precisión).\n",
    "\n",
    "Limitaciones\n",
    "\n",
    "* No Específico para un Tipo de Error: El F1 Score trata los falsos positivos y los falsos negativos de manera igual, lo cual puede no ser adecuado en todas las situaciones.\n",
    "* Compromiso entre Precisión y Recall: En casos donde uno es mucho más importante que el otro, el F1 Score puede no reflejar adecuadamente la eficacia del modelo para ese propósito específico."
   ]
  },
  {
   "cell_type": "code",
   "execution_count": 377,
   "metadata": {},
   "outputs": [
    {
     "name": "stdout",
     "output_type": "stream",
     "text": [
      "╒══════════╤══════════╕\n",
      "│ Metric   │    Value │\n",
      "╞══════════╪══════════╡\n",
      "│ F1 Score │ 0.340426 │\n",
      "╘══════════╧══════════╛\n"
     ]
    }
   ],
   "source": [
    "f1_score = (2 * (precision * recall) / (precision + recall))\n",
    "data = [[\"F1 Score\", f1_score]]\n",
    "table = tabulate(data, headers=['Metric', 'Value'], tablefmt='fancy_grid')\n",
    "\n",
    "print(table)"
   ]
  },
  {
   "cell_type": "markdown",
   "metadata": {},
   "source": [
    "### ¿Qué se considera \"bueno\"?\n",
    "\n",
    "La evaluación de lo que se considera un \"buen\" valor para cada una de estas métricas depende en gran medida del contexto específico del problema y del área de aplicación. Sin embargo, puedo proporcionarte algunas pautas generales:\n",
    "\n",
    "* Precisión: Un valor alto es deseable, especialmente en situaciones donde los falsos positivos son costosos o indeseables. Un valor de precisión de 0.90 o superior suele considerarse bueno, pero esto puede variar según el contexto.\n",
    "\n",
    "* Recall (Sensibilidad): Un valor alto es crucial en contextos donde es importante capturar todos los casos positivos (como en diagnósticos médicos). Un recall de 0.90 o más es generalmente bueno, aunque en algunas aplicaciones, incluso un valor ligeramente más bajo puede ser aceptable si se equilibra con otras métricas.\n",
    "\n",
    "* Especificidad: Al igual que con el recall, un valor alto es mejor. En aplicaciones médicas, por ejemplo, una especificidad alta reduce los diagnósticos falsos positivos. Un valor de 0.90 o más se considera generalmente bueno.\n",
    "\n",
    "* F1 Score: Combina precisión y recall. Un valor alto indica un buen equilibrio entre estas dos métricas. Generalmente, un F1 Score superior a 0.80 es considerado bueno, pero esto puede variar según el problema.\n",
    "\n",
    "* Accuracy (Exactitud): Mientras más alto mejor, pero en datasets desbalanceados, esta métrica puede ser engañosa. Un valor de 0.90 o superior suele ser bueno, pero siempre debe considerarse en el contexto de la distribución de la clase.\n",
    "\n",
    "Es importante recordar que estas son solo pautas generales. En la práctica, lo que constituye un valor \"bueno\" para estas métricas puede variar significativamente dependiendo de la aplicación específica y de los costos relativos asociados con diferentes tipos de errores (falsos positivos vs. falsos negativos). En algunos contextos, sacrificar precisión por recall (o viceversa) puede ser completamente justificable si se alinea con los objetivos y restricciones específicas del problema. Además, siempre es recomendable comparar el rendimiento del modelo con un punto de referencia relevante, como el rendimiento de modelos anteriores o benchmarks de la industria."
   ]
  },
  {
   "cell_type": "markdown",
   "metadata": {},
   "source": [
    "\n",
    "## Curvas ROC y Área Bajo la Curva (AUC)\n"
   ]
  },
  {
   "cell_type": "markdown",
   "metadata": {},
   "source": [
    "Las curvas ROC son representaciones gráficas que muestran la relación entre la tasa de verdaderos positivos y la tasa de falsos positivos de un modelo de clasificación. Estas tasas se calculan a diferentes umbrales de decisión, lo que permite evaluar cómo el cambio en el umbral afecta al rendimiento del modelo."
   ]
  },
  {
   "cell_type": "markdown",
   "metadata": {},
   "source": [
    "Importancia de los Umbrales:\n",
    "\n",
    "*    Elección del Umbral: La curva ROC es útil para seleccionar un valor de umbral que equilibre entre sensibilidad y especificidad, lo cual es crítico en escenarios comerciales o clínicos donde los costos de falsos positivos y falsos negativos pueden variar considerablemente.\n",
    "*    Visualización de Trade-offs: Proporciona una forma clara de visualizar el trade-off entre capturar verdaderos positivos y evitar falsos positivos."
   ]
  },
  {
   "cell_type": "code",
   "execution_count": 368,
   "metadata": {},
   "outputs": [
    {
     "data": {
      "image/png": "[encoded data removed]",
      "text/plain": [
       "<Figure size 640x480 with 1 Axes>"
      ]
     },
     "metadata": {},
     "output_type": "display_data"
    }
   ],
   "source": [
    "y_test = y_test.astype(int)\n",
    "\n",
    "# Predecir probabilidades de la clase de personas con diabetes para el conjunto de prueba\n",
    "y_pred_prob = logreg.predict_proba(X_test)[:, 1]\n",
    "# Calcular la tasa de falsos positivos (fpr), la tasa de verdaderos positivos (tpr) y los umbrales para la curva ROC\n",
    "fpr, tpr, thresholds = metrics.roc_curve(y_test, y_pred_prob)\n",
    "plt.plot(fpr, tpr)\n",
    "plt.xlim([0.0, 1.0])\n",
    "plt.ylim([0.0, 1.0])\n",
    "plt.title('ROC curve for diabetes classifier')\n",
    "plt.xlabel('False Positive Rate (1 - Specificity)')\n",
    "plt.ylabel('True Positive Rate (Sensitivity)')\n",
    "plt.grid(True)\n",
    "\n"
   ]
  },
  {
   "cell_type": "code",
   "execution_count": 369,
   "metadata": {},
   "outputs": [],
   "source": [
    "def evaluate_threshold(threshold):\n",
    "    print('Sensitivity:', tpr[thresholds > threshold][-1])\n",
    "    print('Specificity:', 1 - fpr[thresholds > threshold][-1])"
   ]
  },
  {
   "cell_type": "code",
   "execution_count": 383,
   "metadata": {},
   "outputs": [
    {
     "name": "stdout",
     "output_type": "stream",
     "text": [
      "Sensitivity: 0.25806451612903225\n",
      "Specificity: 0.8769230769230769\n"
     ]
    }
   ],
   "source": [
    "evaluate_threshold(0.5)"
   ]
  },
  {
   "cell_type": "code",
   "execution_count": 371,
   "metadata": {},
   "outputs": [
    {
     "name": "stdout",
     "output_type": "stream",
     "text": [
      "Sensitivity: 0.016129032258064516\n",
      "Specificity: 0.9923076923076923\n"
     ]
    }
   ],
   "source": [
    "evaluate_threshold(0.8)"
   ]
  },
  {
   "cell_type": "markdown",
   "metadata": {},
   "source": [
    "El AUC es una métrica que mide la calidad del modelo de clasificación, representando el porcentaje del gráfico ROC que se encuentra debajo de la curva trazada."
   ]
  },
  {
   "cell_type": "markdown",
   "metadata": {},
   "source": [
    "Relevancia del AUC\n",
    "\n",
    "* Evaluación del Rendimiento: Un AUC alto indica que el modelo tiene una buena medida de separabilidad; es decir, tiene una mayor capacidad para distinguir entre clases.\n",
    "* Útil en Desbalance de Clases: El AUC es particularmente valioso en datasets con un alto desequilibrio de clases, ya que no se ve tan afectado por la proporción de clases como otras métricas.\n",
    "* Comparación de Modelos: Permite comparar la eficacia de diferentes clasificadores, siendo una métrica integral para evaluar modelos en competencias o benchmarks."
   ]
  },
  {
   "cell_type": "code",
   "execution_count": 372,
   "metadata": {},
   "outputs": [
    {
     "name": "stdout",
     "output_type": "stream",
     "text": [
      "AUC Score: 0.7227047146401985\n"
     ]
    }
   ],
   "source": [
    "# IMPORTANTE: El primer argumento son los valores verdaderos, el segundo argumento son las probabilidades predichas\n",
    "print(\"AUC Score:\",metrics.roc_auc_score(y_test, y_pred_prob))"
   ]
  },
  {
   "cell_type": "markdown",
   "metadata": {},
   "source": [
    "La validación cruzada aplicada al cálculo del AUC proporciona una estimación más robusta y menos sesgada del rendimiento del modelo, ya que evalúa cómo el modelo se generaliza a diferentes muestras del dataset."
   ]
  },
  {
   "cell_type": "code",
   "execution_count": 373,
   "metadata": {},
   "outputs": [
    {
     "name": "stdout",
     "output_type": "stream",
     "text": [
      "Cross-Validated AUC Score: 0.7425071225071225\n"
     ]
    }
   ],
   "source": [
    "# calculate cross-validated AUC\n",
    "print(\"Cross-Validated AUC Score:\",cross_val_score(logreg, X, y, cv=10, scoring='roc_auc').mean())"
   ]
  },
  {
   "cell_type": "markdown",
   "metadata": {},
   "source": [
    "* logreg: Este es el modelo que estás evaluando, en este caso, una instancia de LogisticRegression. Es el objeto que ya ha sido creado y que contiene la configuración del modelo que se entrenará y se validará a través de la validación cruzada.\n",
    "\n",
    "* X: Representa la matriz de características del conjunto de datos que se utiliza para entrenar el modelo. Son los datos de entrada que el modelo usará para aprender.\n",
    "\n",
    "* y: Son las etiquetas verdaderas asociadas con las entradas X. En un contexto de clasificación, y contiene la clase o categoría para cada observación en X.\n",
    "\n",
    "* cv=10: Este parámetro define el número de pliegues que se utilizarán en la validación cruzada. Un cv de 10 significa que los datos se dividirán en 10 partes: el modelo se entrena en 9 y se prueba en 1, y este proceso se repite 10 veces, de manera que cada parte de los datos se utiliza una vez como conjunto de prueba.\n",
    "\n",
    "* scoring='roc_auc': Indica la métrica que se utilizará para evaluar el modelo en cada pliegue de la validación cruzada. En este caso, se usa el área bajo la curva (AUC) de la curva de característica operativa del receptor (ROC), que es una métrica comprensiva de la capacidad del modelo para distinguir entre las clases positivas y negativas a varios umbrales de decisión."
   ]
  }
 ],
 "metadata": {
  "kernelspec": {
   "display_name": "Python 3",
   "language": "python",
   "name": "python3"
  },
  "language_info": {
   "codemirror_mode": {
    "name": "ipython",
    "version": 3
   },
   "file_extension": ".py",
   "mimetype": "text/x-python",
   "name": "python",
   "nbconvert_exporter": "python",
   "pygments_lexer": "ipython3",
   "version": "3.8.18"
  }
 },
 "nbformat": 4,
 "nbformat_minor": 2
}
